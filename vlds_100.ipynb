{
 "cells": [
  {
   "cell_type": "code",
   "execution_count": 1,
   "metadata": {},
   "outputs": [],
   "source": [
    "import numpy as np\n",
    "import matplotlib.pyplot as plt\n",
    "import pandas as pd\n",
    "from sklearn.model_selection import train_test_split\n",
    "from tqdm import tqdm\n",
    "\n",
    "from qiskit import Aer, QuantumCircuit\n",
    "from qiskit.opflow import Z, I, StateFn\n",
    "from qiskit.utils import QuantumInstance, algorithm_globals\n",
    "from qiskit.circuit import Parameter\n",
    "from qiskit.circuit.library import RealAmplitudes, ZZFeatureMap\n",
    "from qiskit.algorithms.optimizers import COBYLA, L_BFGS_B\n",
    "\n",
    "from qiskit_machine_learning.neural_networks import TwoLayerQNN, CircuitQNN\n",
    "from qiskit_machine_learning.algorithms.classifiers import NeuralNetworkClassifier, VQC\n",
    "from qiskit_machine_learning.algorithms.regressors import NeuralNetworkRegressor, VQR\n",
    "\n",
    "from IPython.display import clear_output\n",
    "\n",
    "from typing import Union\n",
    "\n",
    "from qiskit_machine_learning.exceptions import QiskitMachineLearningError\n",
    "\n",
    "algorithm_globals.random_seed = 42"
   ]
  },
  {
   "cell_type": "code",
   "execution_count": 3,
   "metadata": {},
   "outputs": [],
   "source": [
    "quantum_instance = QuantumInstance(Aer.get_backend(\"aer_simulator\"), shots=1024)"
   ]
  },
  {
   "cell_type": "code",
   "execution_count": 4,
   "metadata": {},
   "outputs": [
    {
     "data": {
      "text/html": [
       "<pre style=\"word-wrap: normal;white-space: pre;background: #fff0;line-height: 1.1;font-family: &quot;Courier New&quot;,Courier,monospace\">     ┌─────────┐┌─────────┐                                              »\n",
       "q_0: ┤ Ry(i_1) ├┤ Rx(w_1) ├─────■────────────────────────────────────────»\n",
       "     ├─────────┤└─────────┘┌────┴─────┐┌─────────┐                       »\n",
       "q_1: ┤ Ry(i_2) ├───────────┤ Rz(w_12) ├┤ Rx(w_2) ├─────■─────────────────»\n",
       "     ├─────────┤           └──────────┘└─────────┘┌────┴─────┐┌─────────┐»\n",
       "q_2: ┤ Ry(i_3) ├──────────────────────────────────┤ Rz(w_23) ├┤ Rx(w_3) ├»\n",
       "     └─────────┘                                  └──────────┘└─────────┘»\n",
       "«     ┌──────────┐\n",
       "«q_0: ┤ Rz(w_13) ├\n",
       "«     └────┬─────┘\n",
       "«q_1: ─────┼──────\n",
       "«          │      \n",
       "«q_2: ─────■──────\n",
       "«                 </pre>"
      ],
      "text/plain": [
       "     ┌─────────┐┌─────────┐                                              »\n",
       "q_0: ┤ Ry(i_1) ├┤ Rx(w_1) ├─────■────────────────────────────────────────»\n",
       "     ├─────────┤└─────────┘┌────┴─────┐┌─────────┐                       »\n",
       "q_1: ┤ Ry(i_2) ├───────────┤ Rz(w_12) ├┤ Rx(w_2) ├─────■─────────────────»\n",
       "     ├─────────┤           └──────────┘└─────────┘┌────┴─────┐┌─────────┐»\n",
       "q_2: ┤ Ry(i_3) ├──────────────────────────────────┤ Rz(w_23) ├┤ Rx(w_3) ├»\n",
       "     └─────────┘                                  └──────────┘└─────────┘»\n",
       "«     ┌──────────┐\n",
       "«q_0: ┤ Rz(w_13) ├\n",
       "«     └────┬─────┘\n",
       "«q_1: ─────┼──────\n",
       "«          │      \n",
       "«q_2: ─────■──────\n",
       "«                 "
      ]
     },
     "execution_count": 4,
     "metadata": {},
     "output_type": "execute_result"
    }
   ],
   "source": [
    "#circuit 01\n",
    "circuit01 = QuantumCircuit(3)\n",
    "\n",
    "#Input layer\n",
    "circuit01.ry(Parameter('i_3'),2)\n",
    "circuit01.ry(Parameter('i_1'),0)\n",
    "circuit01.ry(Parameter('i_2'),1)\n",
    "\n",
    "#mixing/training layer, can very different. comparable to classical setup of NN, i.e. LSTM, hidden layers, activation functions. Still unclear which is good and what works best\n",
    "circuit01.rx(Parameter('w_1'),0)\n",
    "circuit01.crz(Parameter('w_12'),0,1)\n",
    "circuit01.rx(Parameter('w_2'),1)\n",
    "circuit01.crz(Parameter('w_23'),1,2)\n",
    "circuit01.rx(Parameter('w_3'),2)\n",
    "circuit01.crz(Parameter('w_13'),2,0)\n",
    "\n",
    "circuit01.draw()"
   ]
  },
  {
   "cell_type": "code",
   "execution_count": 5,
   "metadata": {},
   "outputs": [
    {
     "data": {
      "text/html": [
       "<pre style=\"word-wrap: normal;white-space: pre;background: #fff0;line-height: 1.1;font-family: &quot;Courier New&quot;,Courier,monospace\">     ┌─────────┐┌─────────┐                                    ┌──────────┐\n",
       "q_0: ┤ Ry(i_1) ├┤ Rx(w_1) ├─────■──────────────────────────────┤ Rz(w_13) ├\n",
       "     ├─────────┤├─────────┤┌────┴─────┐                        └────┬─────┘\n",
       "q_1: ┤ Ry(i_2) ├┤ Rx(w_2) ├┤ Rz(w_12) ├─────■───────────────────────┼──────\n",
       "     ├─────────┤├─────────┤└──────────┘┌────┴─────┐                 │      \n",
       "q_2: ┤ Ry(i_3) ├┤ Rx(w_3) ├────────────┤ Rz(w_23) ├─────■───────────┼──────\n",
       "     ├─────────┤├─────────┤            └──────────┘┌────┴─────┐     │      \n",
       "q_3: ┤ Ry(i_4) ├┤ Rx(w_4) ├────────────────────────┤ Rz(w_34) ├─────■──────\n",
       "     └─────────┘└─────────┘                        └──────────┘            </pre>"
      ],
      "text/plain": [
       "     ┌─────────┐┌─────────┐                                    ┌──────────┐\n",
       "q_0: ┤ Ry(i_1) ├┤ Rx(w_1) ├─────■──────────────────────────────┤ Rz(w_13) ├\n",
       "     ├─────────┤├─────────┤┌────┴─────┐                        └────┬─────┘\n",
       "q_1: ┤ Ry(i_2) ├┤ Rx(w_2) ├┤ Rz(w_12) ├─────■───────────────────────┼──────\n",
       "     ├─────────┤├─────────┤└──────────┘┌────┴─────┐                 │      \n",
       "q_2: ┤ Ry(i_3) ├┤ Rx(w_3) ├────────────┤ Rz(w_23) ├─────■───────────┼──────\n",
       "     ├─────────┤├─────────┤            └──────────┘┌────┴─────┐     │      \n",
       "q_3: ┤ Ry(i_4) ├┤ Rx(w_4) ├────────────────────────┤ Rz(w_34) ├─────■──────\n",
       "     └─────────┘└─────────┘                        └──────────┘            "
      ]
     },
     "execution_count": 5,
     "metadata": {},
     "output_type": "execute_result"
    }
   ],
   "source": [
    "#circuit 02\n",
    "circuit02 = QuantumCircuit(4)\n",
    "\n",
    "#Input layer\n",
    "circuit02.ry(Parameter('i_1'),0)\n",
    "circuit02.ry(Parameter('i_2'),1)\n",
    "circuit02.ry(Parameter('i_3'),2)\n",
    "circuit02.ry(Parameter('i_4'),3)\n",
    "\n",
    "#mixing/training layer, can very different. comparable to classical setup of NN, i.e. LSTM, hidden layers, activation functions. Still unclear which is good and what works best\n",
    "circuit02.rx(Parameter('w_1'),0)\n",
    "circuit02.rx(Parameter('w_2'),1)\n",
    "circuit02.rx(Parameter('w_3'),2)\n",
    "circuit02.rx(Parameter('w_4'),3)\n",
    "circuit02.crz(Parameter('w_12'),0,1)\n",
    "circuit02.crz(Parameter('w_23'),1,2)\n",
    "circuit02.crz(Parameter('w_34'),2,3)\n",
    "circuit02.crz(Parameter('w_13'),3,0)\n",
    "\n",
    "circuit02.draw()"
   ]
  },
  {
   "cell_type": "code",
   "execution_count": 6,
   "metadata": {},
   "outputs": [
    {
     "data": {
      "text/html": [
       "<pre style=\"word-wrap: normal;white-space: pre;background: #fff0;line-height: 1.1;font-family: &quot;Courier New&quot;,Courier,monospace\">     ┌─────────┐┌──────────┐┌──────────┐┌──────────┐\n",
       "q_0: ┤ Ry(i_1) ├┤ Rx(w_x1) ├┤ Ry(w_y1) ├┤ Rz(w_z1) ├\n",
       "     ├─────────┤├──────────┤├──────────┤├──────────┤\n",
       "q_1: ┤ Ry(i_2) ├┤ Rx(w_x2) ├┤ Ry(w_y2) ├┤ Rz(w_z2) ├\n",
       "     ├─────────┤├──────────┤├──────────┤├──────────┤\n",
       "q_2: ┤ Ry(i_3) ├┤ Rx(w_x3) ├┤ Ry(w_y3) ├┤ Rz(w_z3) ├\n",
       "     ├─────────┤├──────────┤├──────────┤├──────────┤\n",
       "q_3: ┤ Ry(i_4) ├┤ Rx(w_x4) ├┤ Ry(w_y4) ├┤ Rz(w_z4) ├\n",
       "     └─────────┘└──────────┘└──────────┘└──────────┘</pre>"
      ],
      "text/plain": [
       "     ┌─────────┐┌──────────┐┌──────────┐┌──────────┐\n",
       "q_0: ┤ Ry(i_1) ├┤ Rx(w_x1) ├┤ Ry(w_y1) ├┤ Rz(w_z1) ├\n",
       "     ├─────────┤├──────────┤├──────────┤├──────────┤\n",
       "q_1: ┤ Ry(i_2) ├┤ Rx(w_x2) ├┤ Ry(w_y2) ├┤ Rz(w_z2) ├\n",
       "     ├─────────┤├──────────┤├──────────┤├──────────┤\n",
       "q_2: ┤ Ry(i_3) ├┤ Rx(w_x3) ├┤ Ry(w_y3) ├┤ Rz(w_z3) ├\n",
       "     ├─────────┤├──────────┤├──────────┤├──────────┤\n",
       "q_3: ┤ Ry(i_4) ├┤ Rx(w_x4) ├┤ Ry(w_y4) ├┤ Rz(w_z4) ├\n",
       "     └─────────┘└──────────┘└──────────┘└──────────┘"
      ]
     },
     "execution_count": 6,
     "metadata": {},
     "output_type": "execute_result"
    }
   ],
   "source": [
    "#circuit 03\n",
    "circuit03 = QuantumCircuit(4)\n",
    "\n",
    "#Input layer\n",
    "circuit03.ry(Parameter('i_1'),0)\n",
    "circuit03.ry(Parameter('i_2'),1)\n",
    "circuit03.ry(Parameter('i_3'),2)\n",
    "circuit03.ry(Parameter('i_4'),3)\n",
    "\n",
    "#mixing/training layer, can very different. comparable to classical setup of NN, i.e. LSTM, hidden layers, activation functions. Still unclear which is good and what works best\n",
    "circuit03.rx(Parameter('w_x1'),0)\n",
    "circuit03.rx(Parameter('w_x2'),1)\n",
    "circuit03.rx(Parameter('w_x3'),2)\n",
    "circuit03.rx(Parameter('w_x4'),3)\n",
    "\n",
    "circuit03.ry(Parameter('w_y1'),0)\n",
    "circuit03.ry(Parameter('w_y2'),1)\n",
    "circuit03.ry(Parameter('w_y3'),2)\n",
    "circuit03.ry(Parameter('w_y4'),3)\n",
    "\n",
    "circuit03.rz(Parameter('w_z1'),0)\n",
    "circuit03.rz(Parameter('w_z2'),1)\n",
    "circuit03.rz(Parameter('w_z3'),2)\n",
    "circuit03.rz(Parameter('w_z4'),3)\n",
    "\n",
    "circuit03.draw()"
   ]
  },
  {
   "attachments": {},
   "cell_type": "markdown",
   "metadata": {},
   "source": [
    "Loading the adhoc data with size 100"
   ]
  },
  {
   "cell_type": "code",
   "execution_count": 7,
   "metadata": {},
   "outputs": [
    {
     "data": {
      "text/html": [
       "<div>\n",
       "<style scoped>\n",
       "    .dataframe tbody tr th:only-of-type {\n",
       "        vertical-align: middle;\n",
       "    }\n",
       "\n",
       "    .dataframe tbody tr th {\n",
       "        vertical-align: top;\n",
       "    }\n",
       "\n",
       "    .dataframe thead th {\n",
       "        text-align: right;\n",
       "    }\n",
       "</style>\n",
       "<table border=\"1\" class=\"dataframe\">\n",
       "  <thead>\n",
       "    <tr style=\"text-align: right;\">\n",
       "      <th></th>\n",
       "      <th>feature_1</th>\n",
       "      <th>feature_2</th>\n",
       "      <th>label</th>\n",
       "    </tr>\n",
       "  </thead>\n",
       "  <tbody>\n",
       "    <tr>\n",
       "      <th>0</th>\n",
       "      <td>7.0</td>\n",
       "      <td>37.0</td>\n",
       "      <td>1.0</td>\n",
       "    </tr>\n",
       "    <tr>\n",
       "      <th>1</th>\n",
       "      <td>27.0</td>\n",
       "      <td>17.0</td>\n",
       "      <td>0.0</td>\n",
       "    </tr>\n",
       "    <tr>\n",
       "      <th>2</th>\n",
       "      <td>5.0</td>\n",
       "      <td>40.0</td>\n",
       "      <td>1.0</td>\n",
       "    </tr>\n",
       "    <tr>\n",
       "      <th>3</th>\n",
       "      <td>13.0</td>\n",
       "      <td>43.0</td>\n",
       "      <td>1.0</td>\n",
       "    </tr>\n",
       "    <tr>\n",
       "      <th>4</th>\n",
       "      <td>5.0</td>\n",
       "      <td>44.0</td>\n",
       "      <td>1.0</td>\n",
       "    </tr>\n",
       "  </tbody>\n",
       "</table>\n",
       "</div>"
      ],
      "text/plain": [
       "   feature_1  feature_2  label\n",
       "0        7.0       37.0    1.0\n",
       "1       27.0       17.0    0.0\n",
       "2        5.0       40.0    1.0\n",
       "3       13.0       43.0    1.0\n",
       "4        5.0       44.0    1.0"
      ]
     },
     "execution_count": 7,
     "metadata": {},
     "output_type": "execute_result"
    }
   ],
   "source": [
    "df = pd.read_csv('datasets/vlds_100.csv', index_col=[0])\n",
    "df.head()"
   ]
  },
  {
   "cell_type": "code",
   "execution_count": 8,
   "metadata": {},
   "outputs": [],
   "source": [
    "# callback function that draws a live plot when the .fit() method is called\n",
    "def callback_graph(weights, obj_func_eval):\n",
    "    clear_output(wait=True)\n",
    "    objective_func_vals.append(obj_func_eval)\n",
    "    plt.title(\"Objective function value against iteration,  vlds with datasize = 100\")\n",
    "    plt.xlabel(\"Iteration\")\n",
    "    plt.ylabel(\"Objective function value\")\n",
    "    plt.plot(range(len(objective_func_vals)), objective_func_vals)\n",
    "    plt.show()"
   ]
  },
  {
   "cell_type": "code",
   "execution_count": 9,
   "metadata": {
    "pycharm": {
     "is_executing": true
    }
   },
   "outputs": [
    {
     "data": {
      "image/png": "[encoded data removed]",
      "text/plain": [
       "<Figure size 1200x600 with 1 Axes>"
      ]
     },
     "metadata": {},
     "output_type": "display_data"
    },
    {
     "name": "stderr",
     "output_type": "stream",
     "text": [
      "100%|██████████| 10/10 [21:18<00:00, 127.89s/it]"
     ]
    },
    {
     "name": "stdout",
     "output_type": "stream",
     "text": [
      "Score of circuit 1:  [0.36 0.52 0.4  0.32 0.6  0.4  0.52 0.48 0.4  0.48]\n",
      "Score of circuit 2:  [0.36 0.52 0.44 0.32 0.56 0.36 0.52 0.48 0.4  0.52]\n",
      "Score of circuit 3:  [0.36 0.48 0.4  0.44 0.36 0.4  0.48 0.28 0.4  0.4 ]\n",
      "Median of circuit01:  0.44\n",
      "Median of circuit02:  0.45999999999999996\n",
      "Median of circuit03:  0.4\n"
     ]
    },
    {
     "name": "stderr",
     "output_type": "stream",
     "text": [
      "\n"
     ]
    }
   ],
   "source": [
    "datasize = 100\n",
    "output_shape = 2\n",
    "cirtui1_score = []\n",
    "cirtui2_score = []\n",
    "cirtui3_score = []\n",
    "\n",
    "\n",
    "for x in tqdm(range(10)):     \n",
    "     \n",
    "    # ======== setup data ========\n",
    "\n",
    "    features = df.iloc[0:datasize, 0:2].values\n",
    "    labels = df.iloc[0:datasize, 2:3].values.flatten()\n",
    "\n",
    "    features, features_test, labels, labels_test = train_test_split(features, labels, test_size=0.25, random_state=x)  \n",
    "\n",
    "    def parity(x):\n",
    "        return x%2\n",
    "    \n",
    "    # ======== circuit 1 ========\n",
    "\n",
    "    circuit1_qnn = CircuitQNN(circuit=circuit01,    \n",
    "                         input_params=circuit01.parameters[0:2],\n",
    "                         weight_params=circuit01.parameters[2:],\n",
    "                         interpret=parity,\n",
    "                         output_shape=output_shape,\n",
    "                         quantum_instance=quantum_instance)\n",
    "\n",
    "    circuit1_classifier= NeuralNetworkClassifier(neural_network=circuit1_qnn,                                             \n",
    "                            optimizer=COBYLA(),\n",
    "                            callback=callback_graph)\n",
    "    \n",
    "    objective_func_vals = []\n",
    "    plt.rcParams[\"figure.figsize\"] = (12, 6)\n",
    "\n",
    "    circuit1_classifier.fit(features, labels)\n",
    "\n",
    "    plt.rcParams[\"figure.figsize\"] = (6, 3)\n",
    "\n",
    "    cirtui1_score = np.append(cirtui1_score, circuit1_classifier.score(features_test, labels_test))\n",
    "    \n",
    "    # ======== circuit 2 ========\n",
    "\n",
    "    circuit2_qnn = CircuitQNN(circuit=circuit02,    \n",
    "                         input_params=circuit02.parameters[0:2],\n",
    "                         weight_params=circuit02.parameters[2:],\n",
    "                         interpret=parity,\n",
    "                         output_shape=output_shape,\n",
    "                         quantum_instance=quantum_instance)\n",
    "\n",
    "    circuit2_classifier= NeuralNetworkClassifier(neural_network=circuit2_qnn,                                             \n",
    "                            optimizer=COBYLA(),\n",
    "                            callback=callback_graph)\n",
    "    \n",
    "    objective_func_vals = []\n",
    "    plt.rcParams[\"figure.figsize\"] = (12, 6)\n",
    "\n",
    "    circuit2_classifier.fit(features, labels)\n",
    "\n",
    "    plt.rcParams[\"figure.figsize\"] = (6, 3)\n",
    "\n",
    "    cirtui2_score = np.append(cirtui2_score, circuit2_classifier.score(features_test, labels_test))\n",
    "    \n",
    "    # ======== circuit 3 ========\n",
    "\n",
    "    circuit3_qnn = CircuitQNN(circuit=circuit03,    \n",
    "                         input_params=circuit03.parameters[0:2],\n",
    "                         weight_params=circuit03.parameters[2:],\n",
    "                         interpret=parity,\n",
    "                         output_shape=output_shape,\n",
    "                         quantum_instance=quantum_instance)\n",
    "\n",
    "    circuit3_classifier= NeuralNetworkClassifier(neural_network=circuit3_qnn,                                             \n",
    "                            optimizer=COBYLA(),\n",
    "                            callback=callback_graph)\n",
    "    \n",
    "    objective_func_vals = []\n",
    "    plt.rcParams[\"figure.figsize\"] = (12, 6)\n",
    "\n",
    "    circuit3_classifier.fit(features, labels)\n",
    "\n",
    "    plt.rcParams[\"figure.figsize\"] = (6, 3)\n",
    "\n",
    "    cirtui3_score = np.append(cirtui3_score, circuit3_classifier.score(features_test, labels_test))\n",
    "print('Score of circuit 1: ',cirtui1_score)\n",
    "print('Score of circuit 2: ',cirtui2_score)\n",
    "print('Score of circuit 3: ',cirtui3_score)\n",
    "\n",
    "import statistics\n",
    "print(\"Median of circuit01: \", str(statistics.median(cirtui1_score)))\n",
    "print(\"Median of circuit02: \", str(statistics.median(cirtui2_score)))\n",
    "print(\"Median of circuit03: \", str(statistics.median(cirtui3_score)))"
   ]
  },
  {
   "cell_type": "code",
   "execution_count": 10,
   "metadata": {},
   "outputs": [
    {
     "data": {
      "text/plain": [
       "'\\n\\n'"
      ]
     },
     "execution_count": 10,
     "metadata": {},
     "output_type": "execute_result"
    }
   ],
   "source": [
    "\"\"\"\n",
    "100%|██████████| 10/10 [21:18<00:00, 127.89s/it]\n",
    "Score of circuit 1:  [0.36 0.52 0.4  0.32 0.6  0.4  0.52 0.48 0.4  0.48]\n",
    "Score of circuit 2:  [0.36 0.52 0.44 0.32 0.56 0.36 0.52 0.48 0.4  0.52]\n",
    "Score of circuit 3:  [0.36 0.48 0.4  0.44 0.36 0.4  0.48 0.28 0.4  0.4 ]\n",
    "Median of circuit01:  0.44\n",
    "Median of circuit02:  0.45999999999999996\n",
    "Median of circuit03:  0.4\n",
    "\"\"\""
   ]
  },
  {
   "cell_type": "code",
   "execution_count": 2,
   "metadata": {},
   "outputs": [
    {
     "data": {
      "text/plain": [
       "{'whiskers': [<matplotlib.lines.Line2D at 0x1be0b418880>,\n",
       "  <matplotlib.lines.Line2D at 0x1be0b418b20>,\n",
       "  <matplotlib.lines.Line2D at 0x1be0b419b10>,\n",
       "  <matplotlib.lines.Line2D at 0x1be0b419db0>,\n",
       "  <matplotlib.lines.Line2D at 0x1be0b41ad70>,\n",
       "  <matplotlib.lines.Line2D at 0x1be0b41b010>],\n",
       " 'caps': [<matplotlib.lines.Line2D at 0x1be0b418dc0>,\n",
       "  <matplotlib.lines.Line2D at 0x1be0b419060>,\n",
       "  <matplotlib.lines.Line2D at 0x1be0b41a050>,\n",
       "  <matplotlib.lines.Line2D at 0x1be0b41a2f0>,\n",
       "  <matplotlib.lines.Line2D at 0x1be0b41b2b0>,\n",
       "  <matplotlib.lines.Line2D at 0x1be0b41b550>],\n",
       " 'boxes': [<matplotlib.lines.Line2D at 0x1be0b3cf4c0>,\n",
       "  <matplotlib.lines.Line2D at 0x1be0b419870>,\n",
       "  <matplotlib.lines.Line2D at 0x1be0b41aad0>],\n",
       " 'medians': [<matplotlib.lines.Line2D at 0x1be0b419300>,\n",
       "  <matplotlib.lines.Line2D at 0x1be0b41a590>,\n",
       "  <matplotlib.lines.Line2D at 0x1be0b41b7f0>],\n",
       " 'fliers': [<matplotlib.lines.Line2D at 0x1be0b4195a0>,\n",
       "  <matplotlib.lines.Line2D at 0x1be0b41a830>,\n",
       "  <matplotlib.lines.Line2D at 0x1be0b41ba90>],\n",
       " 'means': []}"
      ]
     },
     "execution_count": 2,
     "metadata": {},
     "output_type": "execute_result"
    },
    {
     "data": {
      "image/png": "[encoded data removed]",
      "text/plain": [
       "<Figure size 640x480 with 1 Axes>"
      ]
     },
     "metadata": {},
     "output_type": "display_data"
    }
   ],
   "source": [
    "cirtui1_score = [ 0.36, 0.52, 0.4, 0.32, 0.6, 0.4, 0.52, 0.48, 0.4, 0.48 ]\n",
    "cirtui2_score = [ 0.36, 0.52, 0.44, 0.32, 0.56, 0.36, 0.52, 0.48, 0.4, 0.52 ]\n",
    "cirtui3_score = [ 0.36, 0.48, 0.4, 0.44, 0.36, 0.4, 0.48, 0.28, 0.4, 0.4 ]\n",
    "\n",
    "scores = [cirtui1_score, cirtui2_score, cirtui3_score]\n",
    "\n",
    "plt.boxplot(scores)"
   ]
  }
 ],
 "metadata": {
  "kernelspec": {
   "display_name": "Python 3",
   "language": "python",
   "name": "python3"
  },
  "language_info": {
   "codemirror_mode": {
    "name": "ipython",
    "version": 3
   },
   "file_extension": ".py",
   "mimetype": "text/x-python",
   "name": "python",
   "nbconvert_exporter": "python",
   "pygments_lexer": "ipython3",
   "version": "3.10.9"
  },
  "orig_nbformat": 4,
  "vscode": {
   "interpreter": {
    "hash": "87f3593bc9d358ba0e02cd7374b81354a31efff9a023269d92c1fa5783f05d38"
   }
  }
 },
 "nbformat": 4,
 "nbformat_minor": 2
}
