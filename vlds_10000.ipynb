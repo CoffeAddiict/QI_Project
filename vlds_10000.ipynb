{
 "cells": [
  {
   "cell_type": "code",
   "execution_count": 1,
   "metadata": {},
   "outputs": [],
   "source": [
    "import numpy as np\n",
    "import matplotlib.pyplot as plt\n",
    "import pandas as pd\n",
    "\n",
    "from qiskit import Aer, QuantumCircuit\n",
    "from qiskit.opflow import Z, I, StateFn\n",
    "from qiskit.utils import QuantumInstance, algorithm_globals\n",
    "from qiskit.circuit import Parameter\n",
    "from qiskit.circuit.library import RealAmplitudes, ZZFeatureMap\n",
    "from qiskit.algorithms.optimizers import COBYLA, L_BFGS_B\n",
    "\n",
    "from qiskit_machine_learning.neural_networks import TwoLayerQNN, CircuitQNN\n",
    "from qiskit_machine_learning.algorithms.classifiers import NeuralNetworkClassifier, VQC\n",
    "from qiskit_machine_learning.algorithms.regressors import NeuralNetworkRegressor, VQR\n",
    "\n",
    "from IPython.display import clear_output\n",
    "\n",
    "from typing import Union\n",
    "\n",
    "from qiskit_machine_learning.exceptions import QiskitMachineLearningError\n",
    "\n",
    "algorithm_globals.random_seed = 42"
   ]
  },
  {
   "cell_type": "code",
   "execution_count": 2,
   "metadata": {},
   "outputs": [],
   "source": [
    "quantum_instance = QuantumInstance(Aer.get_backend(\"aer_simulator\"), shots=1024)"
   ]
  },
  {
   "cell_type": "code",
   "execution_count": 3,
   "metadata": {},
   "outputs": [
    {
     "data": {
      "text/html": [
       "<pre style=\"word-wrap: normal;white-space: pre;background: #fff0;line-height: 1.1;font-family: &quot;Courier New&quot;,Courier,monospace\">     ┌─────────┐┌─────────┐                                              »\n",
       "q_0: ┤ Ry(i_1) ├┤ Rx(w_1) ├─────■────────────────────────────────────────»\n",
       "     ├─────────┤└─────────┘┌────┴─────┐┌─────────┐                       »\n",
       "q_1: ┤ Ry(i_2) ├───────────┤ Rz(w_12) ├┤ Rx(w_2) ├─────■─────────────────»\n",
       "     ├─────────┤           └──────────┘└─────────┘┌────┴─────┐┌─────────┐»\n",
       "q_2: ┤ Ry(i_3) ├──────────────────────────────────┤ Rz(w_23) ├┤ Rx(w_3) ├»\n",
       "     └─────────┘                                  └──────────┘└─────────┘»\n",
       "«     ┌──────────┐\n",
       "«q_0: ┤ Rz(w_13) ├\n",
       "«     └────┬─────┘\n",
       "«q_1: ─────┼──────\n",
       "«          │      \n",
       "«q_2: ─────■──────\n",
       "«                 </pre>"
      ],
      "text/plain": [
       "     ┌─────────┐┌─────────┐                                              »\n",
       "q_0: ┤ Ry(i_1) ├┤ Rx(w_1) ├─────■────────────────────────────────────────»\n",
       "     ├─────────┤└─────────┘┌────┴─────┐┌─────────┐                       »\n",
       "q_1: ┤ Ry(i_2) ├───────────┤ Rz(w_12) ├┤ Rx(w_2) ├─────■─────────────────»\n",
       "     ├─────────┤           └──────────┘└─────────┘┌────┴─────┐┌─────────┐»\n",
       "q_2: ┤ Ry(i_3) ├──────────────────────────────────┤ Rz(w_23) ├┤ Rx(w_3) ├»\n",
       "     └─────────┘                                  └──────────┘└─────────┘»\n",
       "«     ┌──────────┐\n",
       "«q_0: ┤ Rz(w_13) ├\n",
       "«     └────┬─────┘\n",
       "«q_1: ─────┼──────\n",
       "«          │      \n",
       "«q_2: ─────■──────\n",
       "«                 "
      ]
     },
     "execution_count": 3,
     "metadata": {},
     "output_type": "execute_result"
    }
   ],
   "source": [
    "#circuit 01\n",
    "circuit = QuantumCircuit(3)\n",
    "\n",
    "#Input layer\n",
    "circuit.ry(Parameter('i_1'),0)\n",
    "circuit.ry(Parameter('i_2'),1)\n",
    "circuit.ry(Parameter('i_3'),2)\n",
    "\n",
    "#mixing/training layer, can very different. comparable to classical setup of NN, i.e. LSTM, hidden layers, activation functions. Still unclear which is good and what works best\n",
    "circuit.rx(Parameter('w_1'),0)\n",
    "circuit.crz(Parameter('w_12'),0,1)\n",
    "circuit.rx(Parameter('w_2'),1)\n",
    "circuit.crz(Parameter('w_23'),1,2)\n",
    "circuit.rx(Parameter('w_3'),2)\n",
    "circuit.crz(Parameter('w_13'),2,0)\n",
    "\n",
    "circuit.draw()"
   ]
  },
  {
   "cell_type": "code",
   "execution_count": 4,
   "metadata": {},
   "outputs": [
    {
     "data": {
      "text/html": [
       "<pre style=\"word-wrap: normal;white-space: pre;background: #fff0;line-height: 1.1;font-family: &quot;Courier New&quot;,Courier,monospace\">     ┌─────────┐┌─────────┐                                    ┌──────────┐\n",
       "q_0: ┤ Ry(i_1) ├┤ Rx(w_1) ├─────■──────────────────────────────┤ Rz(w_13) ├\n",
       "     ├─────────┤├─────────┤┌────┴─────┐                        └────┬─────┘\n",
       "q_1: ┤ Ry(i_2) ├┤ Rx(w_2) ├┤ Rz(w_12) ├─────■───────────────────────┼──────\n",
       "     ├─────────┤├─────────┤└──────────┘┌────┴─────┐                 │      \n",
       "q_2: ┤ Ry(i_3) ├┤ Rx(w_3) ├────────────┤ Rz(w_23) ├─────■───────────┼──────\n",
       "     ├─────────┤├─────────┤            └──────────┘┌────┴─────┐     │      \n",
       "q_3: ┤ Ry(i_4) ├┤ Rx(w_4) ├────────────────────────┤ Rz(w_34) ├─────■──────\n",
       "     └─────────┘└─────────┘                        └──────────┘            </pre>"
      ],
      "text/plain": [
       "     ┌─────────┐┌─────────┐                                    ┌──────────┐\n",
       "q_0: ┤ Ry(i_1) ├┤ Rx(w_1) ├─────■──────────────────────────────┤ Rz(w_13) ├\n",
       "     ├─────────┤├─────────┤┌────┴─────┐                        └────┬─────┘\n",
       "q_1: ┤ Ry(i_2) ├┤ Rx(w_2) ├┤ Rz(w_12) ├─────■───────────────────────┼──────\n",
       "     ├─────────┤├─────────┤└──────────┘┌────┴─────┐                 │      \n",
       "q_2: ┤ Ry(i_3) ├┤ Rx(w_3) ├────────────┤ Rz(w_23) ├─────■───────────┼──────\n",
       "     ├─────────┤├─────────┤            └──────────┘┌────┴─────┐     │      \n",
       "q_3: ┤ Ry(i_4) ├┤ Rx(w_4) ├────────────────────────┤ Rz(w_34) ├─────■──────\n",
       "     └─────────┘└─────────┘                        └──────────┘            "
      ]
     },
     "execution_count": 4,
     "metadata": {},
     "output_type": "execute_result"
    }
   ],
   "source": [
    "#circuit 02\n",
    "circuit = QuantumCircuit(4)\n",
    "\n",
    "#Input layer\n",
    "circuit.ry(Parameter('i_1'),0)\n",
    "circuit.ry(Parameter('i_2'),1)\n",
    "circuit.ry(Parameter('i_3'),2)\n",
    "circuit.ry(Parameter('i_4'),3)\n",
    "\n",
    "#mixing/training layer, can very different. comparable to classical setup of NN, i.e. LSTM, hidden layers, activation functions. Still unclear which is good and what works best\n",
    "circuit.rx(Parameter('w_1'),0)\n",
    "circuit.rx(Parameter('w_2'),1)\n",
    "circuit.rx(Parameter('w_3'),2)\n",
    "circuit.rx(Parameter('w_4'),3)\n",
    "circuit.crz(Parameter('w_12'),0,1)\n",
    "circuit.crz(Parameter('w_23'),1,2)\n",
    "circuit.crz(Parameter('w_34'),2,3)\n",
    "circuit.crz(Parameter('w_13'),3,0)\n",
    "\n",
    "circuit.draw()"
   ]
  },
  {
   "cell_type": "code",
   "execution_count": 5,
   "metadata": {},
   "outputs": [
    {
     "data": {
      "text/html": [
       "<pre style=\"word-wrap: normal;white-space: pre;background: #fff0;line-height: 1.1;font-family: &quot;Courier New&quot;,Courier,monospace\">     ┌─────────┐┌──────────┐┌──────────┐┌──────────┐\n",
       "q_0: ┤ Ry(i_1) ├┤ Rx(w_x1) ├┤ Ry(w_y1) ├┤ Rz(w_z1) ├\n",
       "     ├─────────┤├──────────┤├──────────┤├──────────┤\n",
       "q_1: ┤ Ry(i_2) ├┤ Rx(w_x2) ├┤ Ry(w_y2) ├┤ Rz(w_z2) ├\n",
       "     ├─────────┤├──────────┤├──────────┤├──────────┤\n",
       "q_2: ┤ Ry(i_3) ├┤ Rx(w_x3) ├┤ Ry(w_y3) ├┤ Rz(w_z3) ├\n",
       "     ├─────────┤├──────────┤├──────────┤├──────────┤\n",
       "q_3: ┤ Ry(i_4) ├┤ Rx(w_x4) ├┤ Ry(w_y4) ├┤ Rz(w_z4) ├\n",
       "     └─────────┘└──────────┘└──────────┘└──────────┘</pre>"
      ],
      "text/plain": [
       "     ┌─────────┐┌──────────┐┌──────────┐┌──────────┐\n",
       "q_0: ┤ Ry(i_1) ├┤ Rx(w_x1) ├┤ Ry(w_y1) ├┤ Rz(w_z1) ├\n",
       "     ├─────────┤├──────────┤├──────────┤├──────────┤\n",
       "q_1: ┤ Ry(i_2) ├┤ Rx(w_x2) ├┤ Ry(w_y2) ├┤ Rz(w_z2) ├\n",
       "     ├─────────┤├──────────┤├──────────┤├──────────┤\n",
       "q_2: ┤ Ry(i_3) ├┤ Rx(w_x3) ├┤ Ry(w_y3) ├┤ Rz(w_z3) ├\n",
       "     ├─────────┤├──────────┤├──────────┤├──────────┤\n",
       "q_3: ┤ Ry(i_4) ├┤ Rx(w_x4) ├┤ Ry(w_y4) ├┤ Rz(w_z4) ├\n",
       "     └─────────┘└──────────┘└──────────┘└──────────┘"
      ]
     },
     "execution_count": 5,
     "metadata": {},
     "output_type": "execute_result"
    }
   ],
   "source": [
    "#circuit 03\n",
    "circuit = QuantumCircuit(4)\n",
    "\n",
    "#Input layer\n",
    "circuit.ry(Parameter('i_1'),0)\n",
    "circuit.ry(Parameter('i_2'),1)\n",
    "circuit.ry(Parameter('i_3'),2)\n",
    "circuit.ry(Parameter('i_4'),3)\n",
    "\n",
    "#mixing/training layer, can very different. comparable to classical setup of NN, i.e. LSTM, hidden layers, activation functions. Still unclear which is good and what works best\n",
    "circuit.rx(Parameter('w_x1'),0)\n",
    "circuit.rx(Parameter('w_x2'),1)\n",
    "circuit.rx(Parameter('w_x3'),2)\n",
    "circuit.rx(Parameter('w_x4'),3)\n",
    "\n",
    "circuit.ry(Parameter('w_y1'),0)\n",
    "circuit.ry(Parameter('w_y2'),1)\n",
    "circuit.ry(Parameter('w_y3'),2)\n",
    "circuit.ry(Parameter('w_y4'),3)\n",
    "\n",
    "circuit.rz(Parameter('w_z1'),0)\n",
    "circuit.rz(Parameter('w_z2'),1)\n",
    "circuit.rz(Parameter('w_z3'),2)\n",
    "circuit.rz(Parameter('w_z4'),3)\n",
    "\n",
    "circuit.draw()"
   ]
  },
  {
   "attachments": {},
   "cell_type": "markdown",
   "metadata": {},
   "source": [
    "Loading the adhoc data with size 100"
   ]
  },
  {
   "cell_type": "code",
   "execution_count": 6,
   "metadata": {},
   "outputs": [
    {
     "data": {
      "text/html": [
       "<div>\n",
       "<style scoped>\n",
       "    .dataframe tbody tr th:only-of-type {\n",
       "        vertical-align: middle;\n",
       "    }\n",
       "\n",
       "    .dataframe tbody tr th {\n",
       "        vertical-align: top;\n",
       "    }\n",
       "\n",
       "    .dataframe thead th {\n",
       "        text-align: right;\n",
       "    }\n",
       "</style>\n",
       "<table border=\"1\" class=\"dataframe\">\n",
       "  <thead>\n",
       "    <tr style=\"text-align: right;\">\n",
       "      <th></th>\n",
       "      <th>feature_1</th>\n",
       "      <th>feature_2</th>\n",
       "      <th>label</th>\n",
       "    </tr>\n",
       "  </thead>\n",
       "  <tbody>\n",
       "    <tr>\n",
       "      <th>0</th>\n",
       "      <td>28.0</td>\n",
       "      <td>22.0</td>\n",
       "      <td>1.0</td>\n",
       "    </tr>\n",
       "    <tr>\n",
       "      <th>1</th>\n",
       "      <td>27.0</td>\n",
       "      <td>29.0</td>\n",
       "      <td>0.0</td>\n",
       "    </tr>\n",
       "    <tr>\n",
       "      <th>2</th>\n",
       "      <td>27.0</td>\n",
       "      <td>19.0</td>\n",
       "      <td>0.0</td>\n",
       "    </tr>\n",
       "    <tr>\n",
       "      <th>3</th>\n",
       "      <td>31.0</td>\n",
       "      <td>15.0</td>\n",
       "      <td>1.0</td>\n",
       "    </tr>\n",
       "    <tr>\n",
       "      <th>4</th>\n",
       "      <td>28.0</td>\n",
       "      <td>27.0</td>\n",
       "      <td>0.0</td>\n",
       "    </tr>\n",
       "  </tbody>\n",
       "</table>\n",
       "</div>"
      ],
      "text/plain": [
       "   feature_1  feature_2  label\n",
       "0       28.0       22.0    1.0\n",
       "1       27.0       29.0    0.0\n",
       "2       27.0       19.0    0.0\n",
       "3       31.0       15.0    1.0\n",
       "4       28.0       27.0    0.0"
      ]
     },
     "execution_count": 6,
     "metadata": {},
     "output_type": "execute_result"
    }
   ],
   "source": [
    "df = pd.read_csv('datasets/vlds_10000.csv', index_col=[0])\n",
    "df.head()"
   ]
  },
  {
   "cell_type": "code",
   "execution_count": 7,
   "metadata": {},
   "outputs": [],
   "source": [
    "# callback function that draws a live plot when the .fit() method is called\n",
    "def callback_graph(weights, obj_func_eval):\n",
    "    clear_output(wait=True)\n",
    "    objective_func_vals.append(obj_func_eval)\n",
    "    plt.title(\"Objective function value against iteration,  custom-dataset with datasize = 100\")\n",
    "    plt.xlabel(\"Iteration\")\n",
    "    plt.ylabel(\"Objective function value\")\n",
    "    plt.plot(range(len(objective_func_vals)), objective_func_vals)\n",
    "    plt.show()"
   ]
  },
  {
   "cell_type": "code",
   "execution_count": 8,
   "metadata": {
    "pycharm": {
     "is_executing": true
    }
   },
   "outputs": [
    {
     "data": {
      "image/png": "[encoded data removed]",
      "text/plain": [
       "<Figure size 1200x600 with 1 Axes>"
      ]
     },
     "metadata": {},
     "output_type": "display_data"
    },
    {
     "name": "stdout",
     "output_type": "stream",
     "text": [
      "Score of circuit 1:  [0.6        0.57333333 0.61333333 0.56       0.6        0.54666667\n",
      " 0.48       0.58666667 0.53333333 0.56      ]\n",
      "Score of circuit 2:  [0.6        0.61333333 0.61333333 0.53333333 0.57333333 0.49333333\n",
      " 0.50666667 0.58666667 0.56       0.53333333]\n",
      "Score of circuit 3:  [0.6        0.56       0.62666667 0.50666667 0.57333333 0.49333333\n",
      " 0.50666667 0.57333333 0.53333333 0.57333333]\n"
     ]
    }
   ],
   "source": [
    "datasize = 10000\n",
    "output_shape = 2\n",
    "cirtui1_score = []\n",
    "cirtui2_score = []\n",
    "cirtui3_score = []\n",
    "\n",
    "\n",
    "for x in range(10):     \n",
    "    print('iteration: ', x)\n",
    "  \n",
    "    # ======== setup data ========\n",
    "    start = x * (datasize // 10)\n",
    "    end = x * (datasize // 10) + 75\n",
    "\n",
    "    if end < datasize-1:\n",
    "        features = df.iloc[start:end, 0:2].values\n",
    "        labels = df.iloc[start:end, 2:3].values.flatten()\n",
    "    else:\n",
    "        end = end - datasize\n",
    "        features = df.iloc[start:datasize-1, 0:2].values\n",
    "        labels = df.iloc[start:datasize-1, 2:3].values.flatten()\n",
    "        for j in range(end+1):\n",
    "            features = np.append(features, df.iloc[j:j+1, 0:2].values, axis=0)\n",
    "        labels = np.append(labels, df.iloc[0:end+1, 2:3].values.flatten())\n",
    "\n",
    "    def parity(x):\n",
    "        return x%2\n",
    "    \n",
    "    # ======== circuit 1 ========\n",
    "\n",
    "    circuit1_qnn = CircuitQNN(circuit=circuit,    \n",
    "                         input_params=circuit.parameters[0:2],\n",
    "                         weight_params=circuit.parameters[2:],\n",
    "                         interpret=parity,\n",
    "                         output_shape=output_shape,\n",
    "                         quantum_instance=quantum_instance)\n",
    "\n",
    "    circuit1_classifier= NeuralNetworkClassifier(neural_network=circuit1_qnn,                                             \n",
    "                            optimizer=COBYLA(),\n",
    "                            callback=callback_graph)\n",
    "    \n",
    "    objective_func_vals = []\n",
    "    plt.rcParams[\"figure.figsize\"] = (12, 6)\n",
    "\n",
    "    circuit1_classifier.fit(features, labels)\n",
    "\n",
    "    plt.rcParams[\"figure.figsize\"] = (6, 3)\n",
    "\n",
    "    cirtui1_score = np.append(cirtui1_score, circuit1_classifier.score(features, labels))\n",
    "    \n",
    "    # ======== circuit 2 ========\n",
    "\n",
    "    circuit2_qnn = CircuitQNN(circuit=circuit,    \n",
    "                         input_params=circuit.parameters[0:2],\n",
    "                         weight_params=circuit.parameters[2:],\n",
    "                         interpret=parity,\n",
    "                         output_shape=output_shape,\n",
    "                         quantum_instance=quantum_instance)\n",
    "\n",
    "    circuit2_classifier= NeuralNetworkClassifier(neural_network=circuit2_qnn,                                             \n",
    "                            optimizer=COBYLA(),\n",
    "                            callback=callback_graph)\n",
    "    \n",
    "    objective_func_vals = []\n",
    "    plt.rcParams[\"figure.figsize\"] = (12, 6)\n",
    "\n",
    "    circuit2_classifier.fit(features, labels)\n",
    "\n",
    "    plt.rcParams[\"figure.figsize\"] = (6, 3)\n",
    "\n",
    "    cirtui2_score = np.append(cirtui2_score, circuit2_classifier.score(features, labels))\n",
    "    \n",
    "    # ======== circuit 3 ========\n",
    "\n",
    "    circuit3_qnn = CircuitQNN(circuit=circuit,    \n",
    "                         input_params=circuit.parameters[0:2],\n",
    "                         weight_params=circuit.parameters[2:],\n",
    "                         interpret=parity,\n",
    "                         output_shape=output_shape,\n",
    "                         quantum_instance=quantum_instance)\n",
    "\n",
    "    circuit3_classifier= NeuralNetworkClassifier(neural_network=circuit3_qnn,                                             \n",
    "                            optimizer=COBYLA(),\n",
    "                            callback=callback_graph)\n",
    "    \n",
    "    objective_func_vals = []\n",
    "    plt.rcParams[\"figure.figsize\"] = (12, 6)\n",
    "\n",
    "    circuit3_classifier.fit(features, labels)\n",
    "\n",
    "    plt.rcParams[\"figure.figsize\"] = (6, 3)\n",
    "\n",
    "    cirtui3_score = np.append(cirtui3_score, circuit3_classifier.score(features, labels))\n",
    "print('Score of circuit 1: ',cirtui1_score)\n",
    "print('Score of circuit 2: ',cirtui2_score)\n",
    "print('Score of circuit 3: ',cirtui3_score)"
   ]
  },
  {
   "cell_type": "code",
   "execution_count": 9,
   "metadata": {},
   "outputs": [
    {
     "data": {
      "text/plain": [
       "'\\n\\n'"
      ]
     },
     "execution_count": 9,
     "metadata": {},
     "output_type": "execute_result"
    }
   ],
   "source": [
    "\"\"\"\n",
    "Score of circuit 1:  [0.6        0.57333333 0.61333333 0.56       0.6        0.54666667\n",
    " 0.48       0.58666667 0.53333333 0.56      ]\n",
    "Score of circuit 2:  [0.6        0.61333333 0.61333333 0.53333333 0.57333333 0.49333333\n",
    " 0.50666667 0.58666667 0.56       0.53333333]\n",
    "Score of circuit 3:  [0.6        0.56       0.62666667 0.50666667 0.57333333 0.49333333\n",
    " 0.50666667 0.57333333 0.53333333 0.57333333]\n",
    "\"\"\""
   ]
  }
 ],
 "metadata": {
  "kernelspec": {
   "display_name": "Python 3",
   "language": "python",
   "name": "python3"
  },
  "language_info": {
   "codemirror_mode": {
    "name": "ipython",
    "version": 3
   },
   "file_extension": ".py",
   "mimetype": "text/x-python",
   "name": "python",
   "nbconvert_exporter": "python",
   "pygments_lexer": "ipython3",
   "version": "3.10.9 (tags/v3.10.9:1dd9be6, Dec  6 2022, 20:01:21) [MSC v.1934 64 bit (AMD64)]"
  },
  "orig_nbformat": 4,
  "vscode": {
   "interpreter": {
    "hash": "87f3593bc9d358ba0e02cd7374b81354a31efff9a023269d92c1fa5783f05d38"
   }
  }
 },
 "nbformat": 4,
 "nbformat_minor": 2
}
